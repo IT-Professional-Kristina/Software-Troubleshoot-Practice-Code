{
 "cells": [
  {
   "cell_type": "code",
   "execution_count": 4,
   "metadata": {},
   "outputs": [
    {
     "name": "stdout",
     "output_type": "stream",
     "text": [
      "Access granted, Cybernerd\n",
      "Thank you, Cybernerd\n",
      "I will ask you some questions to help me understand your issue\n",
      "Here are a list of steps to follow to troubleshoot your issue.\n",
      "['1. Restart the software']\n",
      "['2. Force quit and relaunch']\n",
      "['3. Check for updates']\n"
     ]
    }
   ],
   "source": [
    "# Troubleshooting Software Issues: A Step-by-Step Guide\n",
    "\n",
    "username = input(\"Please enter your username:\")\n",
    "password = input(\"Please enter your password:\")\n",
    "\n",
    "\n",
    "def access(username):\n",
    "    return f\"Access granted, {username}\"\n",
    "\n",
    "result = access(username)\n",
    "print(result)\n",
    "\n",
    "question = input(\"Please enter your ticket number:\")\n",
    "\n",
    "def greet(username):\n",
    "    return f\"Thank you, {username}\"\n",
    "\n",
    "result_2 = greet(username)\n",
    "print(result_2)\n",
    "\n",
    "statement = \"I will ask you some questions to help me understand your issue\"\n",
    "print(statement)\n",
    "\n",
    "questions = input(\"Describe the issue in detail:\")\n",
    "questions_2 = input(\"When did it start?\")\n",
    "questions_3 = input(\"What error messages are you seeing?\")\n",
    "questions_4 = input(\"What is the expected behavior\")\n",
    "questions_5 = input(\"Please tell me what is your software version, and operating system?\")\n",
    "\n",
    "def greet(username):\n",
    "    return f\"Thank you, {username}\"\n",
    "\n",
    "# Provide steps to help fix the problem\n",
    "steps = \"Here are a list of steps to follow to troubleshoot your issue.\"\n",
    "print(steps)\n",
    "\n",
    "# providing a list of the steps to follow\n",
    "step_by_step_procedures = [[\"1. Restart the software\"], \n",
    "                           [\"2. Force quit and relaunch\"], \n",
    "                           [\"3. Check for updates\"]]\n",
    "print(step_by_step_procedures[0])\n",
    "print(step_by_step_procedures[1])\n",
    "print(step_by_step_procedures[2])"
   ]
  },
  {
   "cell_type": "code",
   "execution_count": null,
   "metadata": {},
   "outputs": [],
   "source": []
  }
 ],
 "metadata": {
  "kernelspec": {
   "display_name": "Python 3",
   "language": "python",
   "name": "python3"
  },
  "language_info": {
   "codemirror_mode": {
    "name": "ipython",
    "version": 3
   },
   "file_extension": ".py",
   "mimetype": "text/x-python",
   "name": "python",
   "nbconvert_exporter": "python",
   "pygments_lexer": "ipython3",
   "version": "3.12.0"
  }
 },
 "nbformat": 4,
 "nbformat_minor": 2
}
